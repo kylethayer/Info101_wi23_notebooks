{
 "cells": [
  {
   "cell_type": "markdown",
   "id": "851657ec-d668-4977-b67a-28ed8cac458c",
   "metadata": {},
   "source": [
    "# Lab 2: Statements, variables, sleep\n",
    "## Statements\n",
    "\n",
    "Lines of code are run in order from top to bottom:"
   ]
  },
  {
   "cell_type": "code",
   "execution_count": 11,
   "id": "fbd9c667-344f-48f2-ac28-e85df1005803",
   "metadata": {},
   "outputs": [
    {
     "data": {
      "text/plain": [
       "'welcome'"
      ]
     },
     "metadata": {},
     "output_type": "display_data"
    },
    {
     "data": {
      "text/plain": [
       "'to'"
      ]
     },
     "metadata": {},
     "output_type": "display_data"
    },
    {
     "data": {
      "text/plain": [
       "'section'"
      ]
     },
     "metadata": {},
     "output_type": "display_data"
    },
    {
     "data": {
      "text/plain": [
       "'AA'"
      ]
     },
     "metadata": {},
     "output_type": "display_data"
    }
   ],
   "source": [
    "display(\"welcome\")\n",
    "display(\"to\")\n",
    "display(\"section\")\n",
    "display(\"AA\")"
   ]
  },
  {
   "cell_type": "markdown",
   "id": "26b496a6-5ee4-46fd-962a-ca917de6c894",
   "metadata": {},
   "source": [
    "Note: you can make a statement go over more than one line sometimes like this:"
   ]
  },
  {
   "cell_type": "code",
   "execution_count": 12,
   "id": "b8071ecb-c023-4459-9275-ecd862340d6c",
   "metadata": {},
   "outputs": [
    {
     "data": {
      "text/plain": [
       "'multiple lines for one statement!'"
      ]
     },
     "metadata": {},
     "output_type": "display_data"
    }
   ],
   "source": [
    "display(\n",
    "    \"multiple lines for one statement!\"\n",
    ")"
   ]
  },
  {
   "cell_type": "markdown",
   "id": "4a9bbf1a-cb92-4aae-9cce-fcd2efa0c5d3",
   "metadata": {},
   "source": [
    "## Variables\n",
    "Save information to use later. (use debugger to see current saved variables)"
   ]
  },
  {
   "cell_type": "code",
   "execution_count": 13,
   "id": "9d9f775a-0d51-4079-8f7f-7aa6042811da",
   "metadata": {},
   "outputs": [],
   "source": [
    "section = \"AA\""
   ]
  },
  {
   "cell_type": "code",
   "execution_count": 14,
   "id": "0c08fe7f-8698-436f-8f75-0d56555c8b9b",
   "metadata": {},
   "outputs": [],
   "source": [
    "number_students = 20"
   ]
  },
  {
   "cell_type": "code",
   "execution_count": 15,
   "id": "9b3dea89-135f-45f1-a186-1fe778f50cec",
   "metadata": {},
   "outputs": [
    {
     "data": {
      "text/plain": [
       "'Welcome to section'"
      ]
     },
     "metadata": {},
     "output_type": "display_data"
    },
    {
     "data": {
      "text/plain": [
       "'AA'"
      ]
     },
     "metadata": {},
     "output_type": "display_data"
    },
    {
     "data": {
      "text/plain": [
       "'The number of students here today:'"
      ]
     },
     "metadata": {},
     "output_type": "display_data"
    },
    {
     "data": {
      "text/plain": [
       "20"
      ]
     },
     "metadata": {},
     "output_type": "display_data"
    }
   ],
   "source": [
    "display(\"Welcome to section\")\n",
    "display(section)\n",
    "display(\"The number of students here today:\")\n",
    "display(number_students)"
   ]
  },
  {
   "cell_type": "markdown",
   "id": "b1c9e494-0b5c-4444-8c50-850624742ee4",
   "metadata": {},
   "source": [
    "You can calculate a new value and save it back into a variable, like if a new student comes in late:"
   ]
  },
  {
   "cell_type": "code",
   "execution_count": 16,
   "id": "d68c0103-8100-433b-a310-765fc1615691",
   "metadata": {},
   "outputs": [],
   "source": [
    "number_students = number_students + 1"
   ]
  },
  {
   "cell_type": "markdown",
   "id": "bb1cdca5-03bd-4aed-8ac2-ce5433a69624",
   "metadata": {},
   "source": [
    "or shorter form:"
   ]
  },
  {
   "cell_type": "code",
   "execution_count": 17,
   "id": "8104c0a1-c0f9-4e04-88a5-5fd011d868e6",
   "metadata": {},
   "outputs": [],
   "source": [
    "number_students += 1"
   ]
  },
  {
   "cell_type": "code",
   "execution_count": 18,
   "id": "513f03b7-6318-4e58-9850-d17567b10850",
   "metadata": {},
   "outputs": [
    {
     "data": {
      "text/plain": [
       "'Welcome to section'"
      ]
     },
     "metadata": {},
     "output_type": "display_data"
    },
    {
     "data": {
      "text/plain": [
       "'AA'"
      ]
     },
     "metadata": {},
     "output_type": "display_data"
    },
    {
     "data": {
      "text/plain": [
       "'The number of students here today:'"
      ]
     },
     "metadata": {},
     "output_type": "display_data"
    },
    {
     "data": {
      "text/plain": [
       "22"
      ]
     },
     "metadata": {},
     "output_type": "display_data"
    }
   ],
   "source": [
    "display(\"Welcome to section\")\n",
    "display(section)\n",
    "display(\"The number of students here today:\")\n",
    "display(number_students)"
   ]
  },
  {
   "cell_type": "markdown",
   "id": "5ac30e00-5416-4b29-a27b-0f2c03939041",
   "metadata": {},
   "source": [
    "## Sleep\n",
    "to use `sleep` we first have to load a library that has the sleep function\n"
   ]
  },
  {
   "cell_type": "code",
   "execution_count": 19,
   "id": "64bc74d6-e21a-4e5a-829f-60b275d2e3dd",
   "metadata": {},
   "outputs": [],
   "source": [
    "from time import sleep"
   ]
  },
  {
   "cell_type": "markdown",
   "id": "f18d8fac-ef73-482a-b0bd-97fb9ac0ae70",
   "metadata": {},
   "source": [
    "then we can add pauses to our code"
   ]
  },
  {
   "cell_type": "code",
   "execution_count": 20,
   "id": "170c118a-c421-4c15-be5d-96a67ea1d524",
   "metadata": {},
   "outputs": [
    {
     "data": {
      "text/plain": [
       "'Welcome to section'"
      ]
     },
     "metadata": {},
     "output_type": "display_data"
    },
    {
     "data": {
      "text/plain": [
       "'AA'"
      ]
     },
     "metadata": {},
     "output_type": "display_data"
    },
    {
     "data": {
      "text/plain": [
       "'The number of students here today:'"
      ]
     },
     "metadata": {},
     "output_type": "display_data"
    },
    {
     "data": {
      "text/plain": [
       "22"
      ]
     },
     "metadata": {},
     "output_type": "display_data"
    },
    {
     "data": {
      "text/plain": [
       "'wait another student showed up'"
      ]
     },
     "metadata": {},
     "output_type": "display_data"
    },
    {
     "data": {
      "text/plain": [
       "'Welcome to section'"
      ]
     },
     "metadata": {},
     "output_type": "display_data"
    },
    {
     "data": {
      "text/plain": [
       "'AA'"
      ]
     },
     "metadata": {},
     "output_type": "display_data"
    },
    {
     "data": {
      "text/plain": [
       "'The number of students here today:'"
      ]
     },
     "metadata": {},
     "output_type": "display_data"
    },
    {
     "data": {
      "text/plain": [
       "23"
      ]
     },
     "metadata": {},
     "output_type": "display_data"
    }
   ],
   "source": [
    "display(\"Welcome to section\")\n",
    "display(section)\n",
    "display(\"The number of students here today:\")\n",
    "display(number_students)\n",
    "\n",
    "sleep(5)\n",
    "\n",
    "display(\"wait another student showed up\")\n",
    "\n",
    "number_students += 1\n",
    "\n",
    "sleep(3)\n",
    "\n",
    "display(\"Welcome to section\")\n",
    "display(section)\n",
    "display(\"The number of students here today:\")\n",
    "display(number_students)"
   ]
  },
  {
   "cell_type": "code",
   "execution_count": null,
   "id": "18be310d-6305-471d-aad9-e648b39d2a89",
   "metadata": {},
   "outputs": [],
   "source": []
  }
 ],
 "metadata": {
  "kernelspec": {
   "display_name": "Python 3 (ipykernel)",
   "language": "python",
   "name": "python3"
  },
  "language_info": {
   "codemirror_mode": {
    "name": "ipython",
    "version": 3
   },
   "file_extension": ".py",
   "mimetype": "text/x-python",
   "name": "python",
   "nbconvert_exporter": "python",
   "pygments_lexer": "ipython3",
   "version": "3.9.7"
  }
 },
 "nbformat": 4,
 "nbformat_minor": 5
}
